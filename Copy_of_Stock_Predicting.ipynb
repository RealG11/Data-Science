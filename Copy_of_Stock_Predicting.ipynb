{
  "nbformat": 4,
  "nbformat_minor": 0,
  "metadata": {
    "colab": {
      "name": "Copy of Stock_Predicting.ipynb",
      "provenance": [],
      "collapsed_sections": [],
      "authorship_tag": "ABX9TyOeXuO/pHNVvCX1SsW03DD1",
      "include_colab_link": true
    },
    "kernelspec": {
      "name": "python3",
      "display_name": "Python 3"
    }
  },
  "cells": [
    {
      "cell_type": "markdown",
      "metadata": {
        "id": "view-in-github",
        "colab_type": "text"
      },
      "source": [
        "<a href=\"https://colab.research.google.com/github/RealG11/Data-Science/blob/main/Copy_of_Stock_Predicting.ipynb\" target=\"_parent\"><img src=\"https://colab.research.google.com/assets/colab-badge.svg\" alt=\"Open In Colab\"/></a>"
      ]
    },
    {
      "cell_type": "code",
      "metadata": {
        "id": "Hy_0I03eLHqK"
      },
      "source": [
        "#Import the libraries\n",
        "import math\n",
        "import pandas_datareader as web\n",
        "import pandas as pd\n",
        "import numpy as np\n",
        "from sklearn.preprocessing import MinMaxScaler\n",
        "from keras.models import Sequential\n",
        "from keras.layers import Dense, LSTM\n",
        "import matplotlib.pyplot as plt\n",
        "plt.style.use('fivethirtyeight')"
      ],
      "execution_count": 1,
      "outputs": []
    },
    {
      "cell_type": "code",
      "metadata": {
        "id": "MCa58tNiN4eq",
        "colab": {
          "base_uri": "https://localhost:8080/",
          "height": 390
        },
        "outputId": "3d3bdcbe-1d9e-4d8a-dcf7-13afb9efb22f"
      },
      "source": [
        "#Get the data\n",
        "df = web.DataReader('CPI.JO',data_source='yahoo', start='2009-01-01', end='2020-12-11')\n",
        "df.head(10)"
      ],
      "execution_count": 2,
      "outputs": [
        {
          "output_type": "execute_result",
          "data": {
            "text/html": [
              "<div>\n",
              "<style scoped>\n",
              "    .dataframe tbody tr th:only-of-type {\n",
              "        vertical-align: middle;\n",
              "    }\n",
              "\n",
              "    .dataframe tbody tr th {\n",
              "        vertical-align: top;\n",
              "    }\n",
              "\n",
              "    .dataframe thead th {\n",
              "        text-align: right;\n",
              "    }\n",
              "</style>\n",
              "<table border=\"1\" class=\"dataframe\">\n",
              "  <thead>\n",
              "    <tr style=\"text-align: right;\">\n",
              "      <th></th>\n",
              "      <th>High</th>\n",
              "      <th>Low</th>\n",
              "      <th>Open</th>\n",
              "      <th>Close</th>\n",
              "      <th>Volume</th>\n",
              "      <th>Adj Close</th>\n",
              "    </tr>\n",
              "    <tr>\n",
              "      <th>Date</th>\n",
              "      <th></th>\n",
              "      <th></th>\n",
              "      <th></th>\n",
              "      <th></th>\n",
              "      <th></th>\n",
              "      <th></th>\n",
              "    </tr>\n",
              "  </thead>\n",
              "  <tbody>\n",
              "    <tr>\n",
              "      <th>2009-01-02</th>\n",
              "      <td>2738.959961</td>\n",
              "      <td>2738.959961</td>\n",
              "      <td>2738.959961</td>\n",
              "      <td>2738.959961</td>\n",
              "      <td>589.0</td>\n",
              "      <td>2146.750488</td>\n",
              "    </tr>\n",
              "    <tr>\n",
              "      <th>2009-01-05</th>\n",
              "      <td>2786.179932</td>\n",
              "      <td>2738.959961</td>\n",
              "      <td>2738.959961</td>\n",
              "      <td>2743.679932</td>\n",
              "      <td>37906.0</td>\n",
              "      <td>2150.449707</td>\n",
              "    </tr>\n",
              "    <tr>\n",
              "      <th>2009-01-06</th>\n",
              "      <td>2786.179932</td>\n",
              "      <td>2762.570068</td>\n",
              "      <td>2762.570068</td>\n",
              "      <td>2786.179932</td>\n",
              "      <td>9794.0</td>\n",
              "      <td>2183.760010</td>\n",
              "    </tr>\n",
              "    <tr>\n",
              "      <th>2009-01-07</th>\n",
              "      <td>2838.129883</td>\n",
              "      <td>2833.409912</td>\n",
              "      <td>2833.409912</td>\n",
              "      <td>2833.409912</td>\n",
              "      <td>6670.0</td>\n",
              "      <td>2220.778809</td>\n",
              "    </tr>\n",
              "    <tr>\n",
              "      <th>2009-01-08</th>\n",
              "      <td>2927.850098</td>\n",
              "      <td>2786.179932</td>\n",
              "      <td>2786.179932</td>\n",
              "      <td>2927.850098</td>\n",
              "      <td>2202.0</td>\n",
              "      <td>2294.799561</td>\n",
              "    </tr>\n",
              "    <tr>\n",
              "      <th>2009-01-09</th>\n",
              "      <td>2927.850098</td>\n",
              "      <td>2880.629883</td>\n",
              "      <td>2927.850098</td>\n",
              "      <td>2927.850098</td>\n",
              "      <td>18923.0</td>\n",
              "      <td>2294.799561</td>\n",
              "    </tr>\n",
              "    <tr>\n",
              "      <th>2009-01-12</th>\n",
              "      <td>2927.850098</td>\n",
              "      <td>2861.739990</td>\n",
              "      <td>2927.850098</td>\n",
              "      <td>2923.129883</td>\n",
              "      <td>8192.0</td>\n",
              "      <td>2291.099854</td>\n",
              "    </tr>\n",
              "    <tr>\n",
              "      <th>2009-01-13</th>\n",
              "      <td>2852.290039</td>\n",
              "      <td>2833.409912</td>\n",
              "      <td>2852.290039</td>\n",
              "      <td>2833.409912</td>\n",
              "      <td>335984.0</td>\n",
              "      <td>2220.778809</td>\n",
              "    </tr>\n",
              "    <tr>\n",
              "      <th>2009-01-14</th>\n",
              "      <td>2842.850098</td>\n",
              "      <td>2833.409912</td>\n",
              "      <td>2842.850098</td>\n",
              "      <td>2833.409912</td>\n",
              "      <td>962883.0</td>\n",
              "      <td>2220.778809</td>\n",
              "    </tr>\n",
              "    <tr>\n",
              "      <th>2009-01-15</th>\n",
              "      <td>2748.399902</td>\n",
              "      <td>2748.399902</td>\n",
              "      <td>2748.399902</td>\n",
              "      <td>2748.399902</td>\n",
              "      <td>741.0</td>\n",
              "      <td>2154.149170</td>\n",
              "    </tr>\n",
              "  </tbody>\n",
              "</table>\n",
              "</div>"
            ],
            "text/plain": [
              "                   High          Low  ...    Volume    Adj Close\n",
              "Date                                  ...                       \n",
              "2009-01-02  2738.959961  2738.959961  ...     589.0  2146.750488\n",
              "2009-01-05  2786.179932  2738.959961  ...   37906.0  2150.449707\n",
              "2009-01-06  2786.179932  2762.570068  ...    9794.0  2183.760010\n",
              "2009-01-07  2838.129883  2833.409912  ...    6670.0  2220.778809\n",
              "2009-01-08  2927.850098  2786.179932  ...    2202.0  2294.799561\n",
              "2009-01-09  2927.850098  2880.629883  ...   18923.0  2294.799561\n",
              "2009-01-12  2927.850098  2861.739990  ...    8192.0  2291.099854\n",
              "2009-01-13  2852.290039  2833.409912  ...  335984.0  2220.778809\n",
              "2009-01-14  2842.850098  2833.409912  ...  962883.0  2220.778809\n",
              "2009-01-15  2748.399902  2748.399902  ...     741.0  2154.149170\n",
              "\n",
              "[10 rows x 6 columns]"
            ]
          },
          "metadata": {
            "tags": []
          },
          "execution_count": 2
        }
      ]
    },
    {
      "cell_type": "code",
      "metadata": {
        "id": "qy2Bw4qdPXrG",
        "colab": {
          "base_uri": "https://localhost:8080/"
        },
        "outputId": "a0c41135-294b-4b5e-c767-c5e7e35725f7"
      },
      "source": [
        "df.shape"
      ],
      "execution_count": 3,
      "outputs": [
        {
          "output_type": "execute_result",
          "data": {
            "text/plain": [
              "(3072, 6)"
            ]
          },
          "metadata": {
            "tags": []
          },
          "execution_count": 3
        }
      ]
    },
    {
      "cell_type": "code",
      "metadata": {
        "id": "93QAo115PvM2",
        "colab": {
          "base_uri": "https://localhost:8080/",
          "height": 515
        },
        "outputId": "f88ac92b-ef3c-47b5-b3e7-3688136ff1d9"
      },
      "source": [
        "#visualize closing price history\n",
        "plt.figure(figsize=(16,8))\n",
        "plt.title('Close Price History')\n",
        "plt.plot(df['Close'])\n",
        "plt.xlabel('Date', fontsize=16)\n",
        "plt.ylabel('Close Price USD ($)', fontsize=16)\n",
        "plt.show()"
      ],
      "execution_count": 4,
      "outputs": [
        {
          "output_type": "display_data",
          "data": {
            "image/png": "[encoded data removed]",
            "text/plain": [
              "<Figure size 1152x576 with 1 Axes>"
            ]
          },
          "metadata": {
            "tags": [],
            "needs_background": "light"
          }
        }
      ]
    },
    {
      "cell_type": "code",
      "metadata": {
        "id": "RFmROFjPUo8Y",
        "colab": {
          "base_uri": "https://localhost:8080/"
        },
        "outputId": "6ca55415-eccf-4c6c-97a9-30d15963a2e8"
      },
      "source": [
        "#create new dataframe with only the 'Close' colomn\n",
        "data = df.filter(['Close'])\n",
        "#convert the dataframe to a numpy array\n",
        "dataset = data.values\n",
        "#get number of rows to train the model on\n",
        "training_data_len = math.ceil(len(dataset)*0.8)\n",
        "training_data_len"
      ],
      "execution_count": 5,
      "outputs": [
        {
          "output_type": "execute_result",
          "data": {
            "text/plain": [
              "2458"
            ]
          },
          "metadata": {
            "tags": []
          },
          "execution_count": 5
        }
      ]
    },
    {
      "cell_type": "code",
      "metadata": {
        "id": "P9e7u3ntXYzP",
        "colab": {
          "base_uri": "https://localhost:8080/"
        },
        "outputId": "06194c25-dd7c-4e18-e6ce-3b15061d4b32"
      },
      "source": [
        "#Scale the data\r\n",
        "scaler = MinMaxScaler(feature_range=(0,1))\r\n",
        "scaled_data = scaler.fit_transform(dataset)\r\n",
        "scaled_data"
      ],
      "execution_count": 6,
      "outputs": [
        {
          "output_type": "execute_result",
          "data": {
            "text/plain": [
              "array([[0.0012881 ],\n",
              "       [0.00132029],\n",
              "       [0.00161009],\n",
              "       ...,\n",
              "       [0.87176947],\n",
              "       [0.86768491],\n",
              "       [0.93952947]])"
            ]
          },
          "metadata": {
            "tags": []
          },
          "execution_count": 6
        }
      ]
    },
    {
      "cell_type": "code",
      "metadata": {
        "colab": {
          "base_uri": "https://localhost:8080/"
        },
        "id": "4uPOJZSgxLNb",
        "outputId": "51a4e402-e9af-46fc-f379-f315bbb9cb72"
      },
      "source": [
        "#Create training dataset and scaled training dataset\r\n",
        "train_data = scaled_data[0:training_data_len,:]\r\n",
        "x_train = []\r\n",
        "y_train = []\r\n",
        "\r\n",
        "for i in range(60, len(train_data)):\r\n",
        "  x_train.append(train_data[i-60:i,0])\r\n",
        "  y_train.append(train_data[i,0])\r\n",
        "  if i <= 60:\r\n",
        "   print(x_train)\r\n",
        "   print(y_train)\r\n",
        "   print()"
      ],
      "execution_count": 7,
      "outputs": [
        {
          "output_type": "stream",
          "text": [
            "[array([0.0012881 , 0.00132029, 0.00161009, 0.00193215, 0.00257613,\n",
            "       0.00257613, 0.00254395, 0.00193215, 0.00193215, 0.00135247,\n",
            "       0.00135247, 0.00193215, 0.00193215, 0.00186771, 0.00186771,\n",
            "       0.00097252, 0.00141691, 0.00141691, 0.00193215, 0.00193215,\n",
            "       0.00193215, 0.00193215, 0.00225414, 0.00193215, 0.00193215,\n",
            "       0.00257613, 0.00322019, 0.00322019, 0.00289819, 0.00289819,\n",
            "       0.00289171, 0.00257613, 0.00193215, 0.00161009, 0.00193215,\n",
            "       0.00193215, 0.00161009, 0.00225414, 0.00225414, 0.00257613,\n",
            "       0.00193856, 0.0012881 , 0.0012881 , 0.0012881 , 0.0012881 ,\n",
            "       0.00096611, 0.00096611, 0.        , 0.00125592, 0.00080505,\n",
            "       0.00064405, 0.00103048, 0.00064405, 0.00064405, 0.00090167,\n",
            "       0.00038643, 0.00096611, 0.00161009, 0.00192567, 0.00321371])]\n",
            "[0.0030270037088780156]\n",
            "\n"
          ],
          "name": "stdout"
        }
      ]
    },
    {
      "cell_type": "code",
      "metadata": {
        "id": "PR4UHZ5d39_2"
      },
      "source": [
        "#convert x_train and y_train into numpy arrays\r\n",
        "x_train, y_train = np.array(x_train), np.array(y_train)"
      ],
      "execution_count": 8,
      "outputs": []
    },
    {
      "cell_type": "code",
      "metadata": {
        "id": "9tMVMMfr4ZBv"
      },
      "source": [
        "#Reshape the data\r\n",
        "x_train = np.reshape(x_train, (x_train.shape[0], x_train.shape[1], 1))"
      ],
      "execution_count": 9,
      "outputs": []
    },
    {
      "cell_type": "code",
      "metadata": {
        "colab": {
          "base_uri": "https://localhost:8080/"
        },
        "id": "bINJH4P3CAgx",
        "outputId": "f2970999-4605-4a50-f758-c7c246ac5f1e"
      },
      "source": [
        "x_train.shape"
      ],
      "execution_count": 10,
      "outputs": [
        {
          "output_type": "execute_result",
          "data": {
            "text/plain": [
              "(2398, 60, 1)"
            ]
          },
          "metadata": {
            "tags": []
          },
          "execution_count": 10
        }
      ]
    },
    {
      "cell_type": "code",
      "metadata": {
        "id": "2zBFWNDYM_N0"
      },
      "source": [
        "#Build the LSTM model\r\n",
        "model = Sequential()\r\n",
        "model.add(LSTM(50, return_sequences=True, input_shape=(x_train.shape[1],1)))\r\n",
        "model.add(LSTM(50, return_sequences=False))\r\n",
        "model.add(Dense(25))\r\n",
        "model.add(Dense(1))"
      ],
      "execution_count": 11,
      "outputs": []
    },
    {
      "cell_type": "code",
      "metadata": {
        "id": "K_TkLZmjRgNI"
      },
      "source": [
        "#Compile the model \r\n",
        "model.compile(optimizer='adam', loss='mean_squared_error')"
      ],
      "execution_count": 12,
      "outputs": []
    },
    {
      "cell_type": "code",
      "metadata": {
        "colab": {
          "base_uri": "https://localhost:8080/"
        },
        "id": "cKv6jk_sUNIq",
        "outputId": "e6088c82-04b5-4b0b-ce3e-6affc34b91e2"
      },
      "source": [
        "#Train the model\r\n",
        "model.fit(x_train, y_train, batch_size=1, epochs=4)"
      ],
      "execution_count": 29,
      "outputs": [
        {
          "output_type": "stream",
          "text": [
            "Epoch 1/4\n",
            "2398/2398 [==============================] - 59s 24ms/step - loss: 1.2083e-04\n",
            "Epoch 2/4\n",
            "2398/2398 [==============================] - 57s 24ms/step - loss: 1.1186e-04\n",
            "Epoch 3/4\n",
            "2398/2398 [==============================] - 58s 24ms/step - loss: 1.1196e-04\n",
            "Epoch 4/4\n",
            "2398/2398 [==============================] - 58s 24ms/step - loss: 1.1612e-04\n"
          ],
          "name": "stdout"
        },
        {
          "output_type": "execute_result",
          "data": {
            "text/plain": [
              "<tensorflow.python.keras.callbacks.History at 0x7ff23ba84da0>"
            ]
          },
          "metadata": {
            "tags": []
          },
          "execution_count": 29
        }
      ]
    },
    {
      "cell_type": "code",
      "metadata": {
        "id": "YvdkM43mXUWa"
      },
      "source": [
        "#Create testing dataset\r\n",
        "test_data = scaled_data[training_data_len-60:, :]\r\n",
        "#Create data sets\r\n",
        "x_test = []\r\n",
        "y_test = dataset[training_data_len:,:]\r\n",
        "\r\n",
        "for i in range(60, len(test_data)):\r\n",
        "  x_test.append(test_data[i-60:i,0])"
      ],
      "execution_count": 30,
      "outputs": []
    },
    {
      "cell_type": "code",
      "metadata": {
        "id": "XMu7i4_2JEup"
      },
      "source": [
        "#Convert the data into a numpy array\r\n",
        "x_test = np.array(x_test)"
      ],
      "execution_count": 31,
      "outputs": []
    },
    {
      "cell_type": "code",
      "metadata": {
        "id": "lJDA2q3dJjKb"
      },
      "source": [
        "#Reshape the data \r\n",
        "x_test = np.reshape(x_test, (x_test.shape[0], x_test.shape[1], 1))"
      ],
      "execution_count": 32,
      "outputs": []
    },
    {
      "cell_type": "code",
      "metadata": {
        "id": "qszpi1o5KXxM"
      },
      "source": [
        "#Get the predicted price values\r\n",
        "predictions = model.predict(x_test)\r\n",
        "predictions = scaler.inverse_transform(predictions)"
      ],
      "execution_count": 33,
      "outputs": []
    },
    {
      "cell_type": "code",
      "metadata": {
        "colab": {
          "base_uri": "https://localhost:8080/"
        },
        "id": "STeyAvBELhYp",
        "outputId": "4f506950-1a29-4d6f-8ab8-1089c791f953"
      },
      "source": [
        "#Get the root mean squared error (RMSE)\r\n",
        "rmse = np.sqrt((np.mean(predictions - y_test)**2))\r\n",
        "rmse"
      ],
      "execution_count": 34,
      "outputs": [
        {
          "output_type": "execute_result",
          "data": {
            "text/plain": [
              "2077.6607161034203"
            ]
          },
          "metadata": {
            "tags": []
          },
          "execution_count": 34
        }
      ]
    },
    {
      "cell_type": "code",
      "metadata": {
        "colab": {
          "base_uri": "https://localhost:8080/",
          "height": 620
        },
        "id": "1Uj3JJVvW2KB",
        "outputId": "fe2da5cb-6f64-4a53-d7c9-3befd49b3c4f"
      },
      "source": [
        "#Plot the data\r\n",
        "train = data[:training_data_len]\r\n",
        "valid = data[training_data_len:]\r\n",
        "valid['Predictions'] = predictions\r\n",
        "\r\n",
        "#Visualize the data\r\n",
        "plt.figure(figsize=(16,8))\r\n",
        "plt.title('Model')\r\n",
        "plt.xlabel('Date',fontsize=18)\r\n",
        "plt.ylabel('Close Price USD ($)', fontsize=18)\r\n",
        "plt.plot(train['Close'])\r\n",
        "plt.plot(valid[['Close','Predictions']])\r\n",
        "plt.legend(['Train','Val','Predictions'], loc='lower right')\r\n",
        "plt.show()"
      ],
      "execution_count": 35,
      "outputs": [
        {
          "output_type": "stream",
          "text": [
            "/usr/local/lib/python3.6/dist-packages/ipykernel_launcher.py:4: SettingWithCopyWarning: \n",
            "A value is trying to be set on a copy of a slice from a DataFrame.\n",
            "Try using .loc[row_indexer,col_indexer] = value instead\n",
            "\n",
            "See the caveats in the documentation: https://pandas.pydata.org/pandas-docs/stable/user_guide/indexing.html#returning-a-view-versus-a-copy\n",
            "  after removing the cwd from sys.path.\n"
          ],
          "name": "stderr"
        },
        {
          "output_type": "display_data",
          "data": {
            "image/png": "[encoded data removed]",
            "text/plain": [
              "<Figure size 1152x576 with 1 Axes>"
            ]
          },
          "metadata": {
            "tags": [],
            "needs_background": "light"
          }
        }
      ]
    },
    {
      "cell_type": "code",
      "metadata": {
        "colab": {
          "base_uri": "https://localhost:8080/",
          "height": 450
        },
        "id": "bXPYzZeTjRu5",
        "outputId": "50a09a0f-e7bd-4a9f-a5dd-aeb853446eaf"
      },
      "source": [
        "#Show the valid and predicted prices\r\n",
        "valid"
      ],
      "execution_count": 36,
      "outputs": [
        {
          "output_type": "execute_result",
          "data": {
            "text/html": [
              "<div>\n",
              "<style scoped>\n",
              "    .dataframe tbody tr th:only-of-type {\n",
              "        vertical-align: middle;\n",
              "    }\n",
              "\n",
              "    .dataframe tbody tr th {\n",
              "        vertical-align: top;\n",
              "    }\n",
              "\n",
              "    .dataframe thead th {\n",
              "        text-align: right;\n",
              "    }\n",
              "</style>\n",
              "<table border=\"1\" class=\"dataframe\">\n",
              "  <thead>\n",
              "    <tr style=\"text-align: right;\">\n",
              "      <th></th>\n",
              "      <th>Close</th>\n",
              "      <th>Predictions</th>\n",
              "    </tr>\n",
              "    <tr>\n",
              "      <th>Date</th>\n",
              "      <th></th>\n",
              "      <th></th>\n",
              "    </tr>\n",
              "  </thead>\n",
              "  <tbody>\n",
              "    <tr>\n",
              "      <th>2018-07-03</th>\n",
              "      <td>85300.0</td>\n",
              "      <td>88081.296875</td>\n",
              "    </tr>\n",
              "    <tr>\n",
              "      <th>2018-07-04</th>\n",
              "      <td>87375.0</td>\n",
              "      <td>83757.460938</td>\n",
              "    </tr>\n",
              "    <tr>\n",
              "      <th>2018-07-05</th>\n",
              "      <td>87000.0</td>\n",
              "      <td>87358.679688</td>\n",
              "    </tr>\n",
              "    <tr>\n",
              "      <th>2018-07-06</th>\n",
              "      <td>87000.0</td>\n",
              "      <td>86009.726562</td>\n",
              "    </tr>\n",
              "    <tr>\n",
              "      <th>2018-07-09</th>\n",
              "      <td>90000.0</td>\n",
              "      <td>86344.156250</td>\n",
              "    </tr>\n",
              "    <tr>\n",
              "      <th>...</th>\n",
              "      <td>...</td>\n",
              "      <td>...</td>\n",
              "    </tr>\n",
              "    <tr>\n",
              "      <th>2020-12-07</th>\n",
              "      <td>128220.0</td>\n",
              "      <td>126793.171875</td>\n",
              "    </tr>\n",
              "    <tr>\n",
              "      <th>2020-12-08</th>\n",
              "      <td>128555.0</td>\n",
              "      <td>125466.117188</td>\n",
              "    </tr>\n",
              "    <tr>\n",
              "      <th>2020-12-09</th>\n",
              "      <td>130395.0</td>\n",
              "      <td>126329.632812</td>\n",
              "    </tr>\n",
              "    <tr>\n",
              "      <th>2020-12-10</th>\n",
              "      <td>129796.0</td>\n",
              "      <td>128226.320312</td>\n",
              "    </tr>\n",
              "    <tr>\n",
              "      <th>2020-12-11</th>\n",
              "      <td>140332.0</td>\n",
              "      <td>126647.023438</td>\n",
              "    </tr>\n",
              "  </tbody>\n",
              "</table>\n",
              "<p>614 rows × 2 columns</p>\n",
              "</div>"
            ],
            "text/plain": [
              "               Close    Predictions\n",
              "Date                               \n",
              "2018-07-03   85300.0   88081.296875\n",
              "2018-07-04   87375.0   83757.460938\n",
              "2018-07-05   87000.0   87358.679688\n",
              "2018-07-06   87000.0   86009.726562\n",
              "2018-07-09   90000.0   86344.156250\n",
              "...              ...            ...\n",
              "2020-12-07  128220.0  126793.171875\n",
              "2020-12-08  128555.0  125466.117188\n",
              "2020-12-09  130395.0  126329.632812\n",
              "2020-12-10  129796.0  128226.320312\n",
              "2020-12-11  140332.0  126647.023438\n",
              "\n",
              "[614 rows x 2 columns]"
            ]
          },
          "metadata": {
            "tags": []
          },
          "execution_count": 36
        }
      ]
    },
    {
      "cell_type": "code",
      "metadata": {
        "id": "Z4EKrbXR0Igc"
      },
      "source": [
        ""
      ],
      "execution_count": null,
      "outputs": []
    },
    {
      "cell_type": "markdown",
      "metadata": {
        "id": "HXhQ4jBa4E7P"
      },
      "source": [
        "This is a model that predicts stock price for Capitec Bank from 2009 to 2020.\r\n",
        "It has a lot of shortcomings. One thing to note is that there is just too much noice in the data. It also validates the prediction for the day using the previous day. I do think the better model would've have just used the previous day instead of last 60 days but the problem with this model is that it cannot be used for long term.\r\n",
        "\r\n",
        "When we use \"buy low and sell high\" we see that the best period to buy was somewhere between 2010 and 2014. Before 2010 it was still too risky but it was going to be rewarding as well.\r\n",
        "\r\n",
        "This is not a financial advice by any means."
      ]
    }
  ]
}